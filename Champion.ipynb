{
 "cells": [
  {
   "cell_type": "code",
   "execution_count": 86,
   "id": "373647d7",
   "metadata": {},
   "outputs": [],
   "source": [
    "import matplotlib.pyplot as plt\n",
    "import numpy as np\n",
    "import seaborn as sn\n",
    "import graphviz\n",
    "import pydot\n",
    "import pandas as pd\n",
    "from operator import itemgetter\n",
    "from tqdm import tqdm\n",
    "from keras import backend as K \n",
    "from tensorflow.keras import regularizers\n",
    "from tensorflow.keras import initializers\n",
    "from sklearn.utils import class_weight\n",
    "from sklearn.metrics import confusion_matrix\n",
    "from sklearn.model_selection import train_test_split\n",
    "from sklearn.datasets import make_multilabel_classification\n",
    "from sklearn.preprocessing import StandardScaler\n",
    "from tensorflow import keras \n",
    "from tensorflow.keras.utils import to_categorical\n",
    "from tensorflow.keras.utils import plot_model\n",
    "from tensorflow.keras import layers\n",
    "from tensorflow.keras.callbacks import EarlyStopping\n",
    "from keras.metrics import Recall, Accuracy, BinaryAccuracy, Precision\n",
    "from sklearn.datasets import make_classification"
   ]
  },
  {
   "cell_type": "code",
   "execution_count": 103,
   "id": "f398c112",
   "metadata": {},
   "outputs": [],
   "source": [
    "df=pd.read_csv(\"matrix_ju_debut.csv\") #si c'est pas la même df je vous laisse la changer\n",
    "pd.options.mode.chained_assignment = None  # default='warn'\n",
    "\n",
    "\n",
    "# je vais d'abord convertir mes classes en nombres\n",
    "# clean = 0 \n",
    "# anomaly = 1\n",
    "# attack = 1\n",
    "\n",
    "for i in df.index : \n",
    "    if df.loc[i,'label'] == \"clean\":\n",
    "        df.loc[i,'label'] = 0\n",
    "    elif df.loc[i,\"label\"] == \"attack\":\n",
    "            df.loc[i,\"label\"] = 1\n",
    "    else :\n",
    "        df.loc[i,\"label\"] = 1\n",
    "        \n",
    "\n",
    "df=df.iloc[:,1:] \n",
    "\n"
   ]
  },
  {
   "cell_type": "code",
   "execution_count": 104,
   "id": "615495ee",
   "metadata": {},
   "outputs": [],
   "source": [
    "# on transforme en array\n",
    "array_final = df.to_numpy()\n",
    "\n",
    "#on mélange les clean et les attack\n",
    "np.random.shuffle(array_final)\n",
    "\n",
    "#on sépare le label des autres feature \n",
    "X=array_final[:,1:]\n",
    "y=array_final[:,0]\n",
    "\n",
    "X = np.asarray(X).astype('float32')\n",
    "y = np.asarray(y).astype('float32')\n",
    "\n",
    "#cela servira de vérification ; on les laisse de côté\n",
    "X_apart=X[:100]\n",
    "Y_apart=y[:100]\n",
    "\n",
    "#séparer en set entrainement et test \n",
    "X_train=X[100:700]\n",
    "Y_train=y[100:700]\n",
    "X_test=X[700:]\n",
    "Y_test=y[700:]\n",
    "\n"
   ]
  },
  {
   "cell_type": "code",
   "execution_count": 105,
   "id": "a16085b2",
   "metadata": {},
   "outputs": [],
   "source": [
    "ecart=np.std(X_train, axis=0) # la liste des écarts types par colonne\n",
    "moyenne=np.mean(X_train,axis=0) # la liste des moyennes par colonne\n",
    "\n",
    "\n",
    "X_apart=X_apart-moyenne\n",
    "X_apart=X_apart/ecart\n",
    "X_train= X_train-moyenne\n",
    "X_test=X_test-moyenne\n",
    "X_test=X_test/ecart\n",
    "X_train=X_train/ecart"
   ]
  },
  {
   "cell_type": "code",
   "execution_count": 106,
   "id": "1b37f319",
   "metadata": {},
   "outputs": [],
   "source": [
    "nb_neurones = 11\n",
    "nb_epoch = 30\n",
    "lr = 0.0001\n",
    "batch_size = 1\n",
    "vs=0.1\n",
    "weight = 5\n",
    "class_weight = {0: 1.,\n",
    "             1: weight}\n",
    "mon_optimizer = keras.optimizers.Adam(lr)"
   ]
  },
  {
   "cell_type": "code",
   "execution_count": 108,
   "id": "282fd6c0",
   "metadata": {},
   "outputs": [
    {
     "name": "stdout",
     "output_type": "stream",
     "text": [
      "5/5 [==============================] - 0s 3ms/step - loss: 0.4934 - binary_accuracy: 0.7750 - precision: 0.3469 - recall: 0.8095\n",
      "Accuracy: 77.50\n",
      "Precision: 34.69\n",
      "Recall: 80.95\n",
      "Loss: 49.34\n"
     ]
    },
    {
     "data": {
      "image/png": "[encoded data removed]",
      "text/plain": [
       "<Figure size 432x288 with 2 Axes>"
      ]
     },
     "metadata": {},
     "output_type": "display_data"
    }
   ],
   "source": [
    "K.clear_session()\n",
    "inputs = keras.Input(shape=(35,))\n",
    "dense1=layers.Dense(30, activation=\"selu\",\n",
    "    kernel_initializer=initializers.RandomNormal(stddev=0.01),\n",
    "                                    bias_initializer=initializers.Zeros())\n",
    "x=dense1(inputs)\n",
    "dense2 = layers.Dense(nb_neurones, activation=\"selu\",\n",
    "                                     kernel_regularizer=regularizers.l1(l1=1e-5),\n",
    "                                        bias_regularizer=regularizers.l1(1e-4),\n",
    "                                    activity_regularizer=regularizers.l1(1e-5),\n",
    "                                    bias_initializer=initializers.Zeros())\n",
    "x=dense2(x)\n",
    "outputs = layers.Dense(1, activation=\"sigmoid\")(x)\n",
    "model=keras.Model(inputs=inputs, outputs=outputs, name=\"first_model\")\n",
    "model.compile(loss='binary_crossentropy', \n",
    "                                      optimizer=mon_optimizer, \n",
    "                                      metrics=[BinaryAccuracy(),Precision() , Recall()]\n",
    "                                         )\n",
    "history = model.fit(X_train, \n",
    "                                    Y_train, \n",
    "                                    validation_split=vs, \n",
    "                                    epochs=nb_epoch, \n",
    "                                    batch_size=batch_size,\n",
    "                                    class_weight = class_weight,\n",
    "                                    verbose = 0\n",
    "                                        )\n",
    "\n",
    "                                    # evaluate the keras model\n",
    "\n",
    "loss, accuracy, precision, recall = model.evaluate(X_test, Y_test) \n",
    "print('Accuracy: %.2f' % (accuracy*100))\n",
    "print('Precision: %.2f' % (precision*100))\n",
    "print('Recall: %.2f' % (recall*100))\n",
    "print('Loss: %.2f' % (loss*100))\n",
    "\n",
    "cm=confusion_matrix(Y_test,model.predict(X_test)>.5)\n",
    "\n",
    "# Normaliser la matrice\n",
    "cmn = cm.astype('float') \n",
    "\n",
    "df_cm = pd.DataFrame(cm, range(2), range(2))\n",
    "\n",
    "sn.set(font_scale=1.4) # for label size\n",
    "sn.heatmap(df_cm, annot=True, annot_kws={\"size\": 16})\n",
    "\n",
    "plt.title(\"Matrice de confusion Clean/Attack\")\n",
    "\n",
    "plt.show()"
   ]
  },
  {
   "cell_type": "code",
   "execution_count": null,
   "id": "3c996406",
   "metadata": {},
   "outputs": [],
   "source": []
  }
 ],
 "metadata": {
  "kernelspec": {
   "display_name": "Python 3 (ipykernel)",
   "language": "python",
   "name": "python3"
  },
  "language_info": {
   "codemirror_mode": {
    "name": "ipython",
    "version": 3
   },
   "file_extension": ".py",
   "mimetype": "text/x-python",
   "name": "python",
   "nbconvert_exporter": "python",
   "pygments_lexer": "ipython3",
   "version": "3.9.5"
  }
 },
 "nbformat": 4,
 "nbformat_minor": 5
}
